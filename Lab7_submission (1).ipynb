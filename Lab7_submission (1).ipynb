{
 "cells": [
  {
   "cell_type": "markdown",
   "id": "5151d084-92e2-46a2-b40a-10bbd0e8d1a2",
   "metadata": {},
   "source": [
    "## Replace this text with your name"
   ]
  },
  {
   "cell_type": "markdown",
   "id": "0d7d0ecb-9aef-4ef0-bb37-27079b171415",
   "metadata": {},
   "source": [
    "In the cell below, include **all** your ``import`` statements"
   ]
  },
  {
   "cell_type": "code",
   "execution_count": 1,
   "id": "9f825be8-75ad-41d0-8ee0-9be55b9a1a88",
   "metadata": {},
   "outputs": [],
   "source": [
    "import numpy as np\n",
    "import matplotlib.pyplot as plt"
   ]
  },
  {
   "cell_type": "markdown",
   "id": "9750c601-3f8f-4c08-a8bb-21fe9150afd2",
   "metadata": {},
   "source": [
    "Use Heun's method to calculate the trajectory of a particle undergoing projectile motion with initial conditions $(x, y) = (0, 0)$ and $(v_x, v_y) = (30, 40)~{\\rm m/s}$. In doing so, you should\n",
    "- use a time stepping function that uses the powers of arrays as both inputs and outputs to your function (you should also use an energy function that takes an array as an input)\n",
    "- make two separate plots: (1) y vs. x; and (2) energy vs. time"
   ]
  },
  {
   "cell_type": "code",
   "execution_count": 2,
   "id": "ee655ec2-0497-4ee4-9026-c2a994d1e388",
   "metadata": {},
   "outputs": [
    {
     "ename": "NameError",
     "evalue": "name 'time' is not defined",
     "output_type": "error",
     "traceback": [
      "\u001b[1;31m---------------------------------------------------------------------------\u001b[0m",
      "\u001b[1;31mNameError\u001b[0m                                 Traceback (most recent call last)",
      "Cell \u001b[1;32mIn[2], line 1\u001b[0m\n\u001b[1;32m----> 1\u001b[0m x_step \u001b[38;5;241m=\u001b[39m np\u001b[38;5;241m.\u001b[39mzeros(\u001b[38;5;28mlen\u001b[39m(time))\n\u001b[0;32m      2\u001b[0m y_step \u001b[38;5;241m=\u001b[39m np\u001b[38;5;241m.\u001b[39mzeros(\u001b[38;5;28mlen\u001b[39m(time))\n\u001b[0;32m      4\u001b[0m time \u001b[38;5;241m=\u001b[39m np\u001b[38;5;241m.\u001b[39mlinspace(\u001b[38;5;241m0\u001b[39m,\u001b[38;5;241m8\u001b[39m,\u001b[38;5;241m100\u001b[39m)\n",
      "\u001b[1;31mNameError\u001b[0m: name 'time' is not defined"
     ]
    }
   ],
   "source": [
    "\n",
    "x_step = np.zeros(len(time))\n",
    "y_step = np.zeros(len(time))\n",
    "\n",
    "time = np.linspace(0,8,100)\n",
    "dt = time[1] - time[0]\n",
    "x = 0\n",
    "y = 0\n",
    "vx = 30\n",
    "vy = 40\n",
    "ax = 0 \n",
    "g=ay\n",
    "ay= -9.8\n",
    "x_in = np.zeros(4)\n",
    "x_in = [x,y,vx,vy]\n",
    "x_array = np.zeros(4)\n",
    "x_array[:] = [x, y, vx, vy]\n",
    "ET = np.zeros(len(time))\n",
    "def xfh(x_in,dt):\n",
    "    derivative1 = np.zeros(4)\n",
    "    derivative1[:] = [x_in[2], x_in[3], ax, ay]\n",
    "    k1 = derivative1 * dt\n",
    "    derivative2 = np.zeros(4)\n",
    "    derivative2[:] = [x_in[2]+k1[2], x_in[3]+k1[3], ax, ay] \n",
    "    k2 = derivative2 * dt \n",
    "    x_final = x_in + 0.5 * (k1+k2)\n",
    "    return x_final\n",
    "\n",
    "def Energy(x,y,vx,vy):\n",
    "    return 0.5*(vx**2 + vy**2) +g*y\n",
    "\n",
    "def energy_function_array(x_in):\n",
    "    return ET(x_in[0], x_in[1], x_in[2], x_in[3])\n",
    "ET[0] = Energy(x,y,vx,vy)\n",
    "for i in range(1,len(time)):\n",
    "    x_array = xfh(x_array, dt)\n",
    "    x_step[i] = x_array[0]\n",
    "    y_step[i] = x_array[1]\n",
    "    ET[i] = Energy(x,y,vx,vy)\n",
    "\n",
    "\n",
    "plt.figure()\n",
    "plt.plot(x_step, y_step)\n",
    "plt.xlabel('Horizontal Displacement')\n",
    "plt.ylabel('Vertical Displacement')\n",
    "plt.title('Model vs Exact Air Resistance')\n",
    "plt.figure()\n",
    "plt.plot(time, ET)\n",
    "plt.title('Energy')\n",
    "plt.xlabel('time')\n",
    "plt.ylabel('energy')\n",
    "plt.show()\n",
    "\n",
    "\n",
    "\n"
   ]
  },
  {
   "cell_type": "markdown",
   "id": "6735f33d-f646-4bd2-b17f-548e41e1f5e6",
   "metadata": {},
   "source": [
    "**Exercise:** Include air resistance:\n",
    "$$\\displaystyle \\frac{dx}{dt} = v_x \\qquad \\qquad \\frac{d v_x}{dt} = a_x = - b v_x$$\n",
    "$$\\displaystyle \\frac{dy}{dt} = v_y \\qquad \\qquad \\frac{d v_y}{dt} = a_y = -g - b v_y$$\n",
    "using $g = 9.8$ and $b = 0.1$. \n",
    "- Again, we will use Heun's method with functions that work with arrays\n",
    "- make two separate plots: (1) y vs. x; and (2) energy vs. time"
   ]
  },
  {
   "cell_type": "code",
   "execution_count": null,
   "id": "a5f7534b-4401-44f1-944e-4a4681481e1a",
   "metadata": {},
   "outputs": [],
   "source": [
    "\n",
    "time = np.linspace(0,8,100)\n",
    "dt = time[1] - time[0]\n",
    "x = 0\n",
    "y = 0\n",
    "vx = 30\n",
    "vy = 40\n",
    "ax = -0.1*vx \n",
    "ay= -9.8-(0.1*vy)\n",
    "x_in = np.zeros(4)\n",
    "x_in = [x,y,vx,vy]\n",
    "x_array = np.zeros(4)\n",
    "x_array[:] = [x, y, vx, vy]\n",
    "ET = np.zeros(len(time))\n",
    "def xfh(x_in,dt):\n",
    "    derivative1 = np.zeros(4)\n",
    "    derivative1[:] = [x_in[2], x_in[3], ax, ay]\n",
    "    k1 = derivative1 * dt\n",
    "    derivative2 = np.zeros(4)\n",
    "    derivative2[:] = [x_in[2]+k1[0], x_in[3]+k1[1], ax, ay] \n",
    "    k2 = derivative2 * dt \n",
    "    x_final = x_in + 0.5 * (k1+k2)\n",
    "    return x_final\n",
    "\n",
    "def Energy(x,y,vx,vy):\n",
    "    return 0.5*(vx**2 + vy**2) +g*y\n",
    "\n",
    "def energy_function_array(x_in):\n",
    "    return ET(x_in[0], x_in[1], x_in[2], x_in[3])\n",
    "ET[0] = Energy(x,y,vx,vy)\n",
    "for i in range(1,len(time)):\n",
    "    x_array = xfh(x_array, dt)\n",
    "    x_step[i] = x_array[0]\n",
    "    y_step[i] = x_array[1]\n",
    "    ET[i] = Energy(x,y,vx,vy)\n",
    "\n",
    "\n",
    "plt.figure()\n",
    "plt.plot(x_step, y_step)\n",
    "plt.xlabel('Horizontal Displacement')\n",
    "plt.ylabel('Vertical Displacement')\n",
    "plt.title('Model vs Exact Air Resistance')\n",
    "plt.ylim(0,75)\n",
    "plt.figure()\n",
    "plt.plot(time, ET)\n",
    "plt.title('Energy')\n",
    "plt.xlabel('time')\n",
    "plt.ylabel('energy')\n",
    "plt.show()\n",
    "\n",
    "\n",
    "\n"
   ]
  },
  {
   "cell_type": "markdown",
   "id": "2366aa8a-5c0d-48ec-b287-c45334fb12f7",
   "metadata": {},
   "source": [
    "Confirm that this all works by using ``Kernel > Restart Kernel and Run All Cells...``"
   ]
  },
  {
   "cell_type": "markdown",
   "id": "c326855e-491d-4d95-a6e0-e94b673b3c40",
   "metadata": {},
   "source": [
    "When you are happy with your results, you will submit by uploading this file on Github."
   ]
  }
 ],
 "metadata": {
  "kernelspec": {
   "display_name": "Python 3 (ipykernel)",
   "language": "python",
   "name": "python3"
  },
  "language_info": {
   "codemirror_mode": {
    "name": "ipython",
    "version": 3
   },
   "file_extension": ".py",
   "mimetype": "text/x-python",
   "name": "python",
   "nbconvert_exporter": "python",
   "pygments_lexer": "ipython3",
   "version": "3.12.7"
  }
 },
 "nbformat": 4,
 "nbformat_minor": 5
}
