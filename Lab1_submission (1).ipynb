{
 "cells": [
  {
   "cell_type": "markdown",
   "id": "5151d084-92e2-46a2-b40a-10bbd0e8d1a2",
   "metadata": {},
   "source": [
    "## Replace this text with your name\n",
    "Nathan Granillo"
   ]
  },
  {
   "cell_type": "markdown",
   "id": "0d7d0ecb-9aef-4ef0-bb37-27079b171415",
   "metadata": {},
   "source": [
    "In the cell below, include your ``import`` statements"
   ]
  },
  {
   "cell_type": "code",
   "execution_count": 1,
   "id": "9f825be8-75ad-41d0-8ee0-9be55b9a1a88",
   "metadata": {},
   "outputs": [],
   "source": [
    "import numpy as np\n",
    "import matplotlib.pyplot as plt"
   ]
  },
  {
   "cell_type": "markdown",
   "id": "7fe0fe59-7c5d-4af6-9387-da5770e03df6",
   "metadata": {},
   "source": [
    "<b>Exercise:</b> Create a function `pyramid(N)` that returns the Nth pyramid number.  In the second input cell below, test your function by printing the values of `pyramid(1)`, `pyramid(2)`, `pyramid(3)` and `pyramid(10)`."
   ]
  },
  {
   "cell_type": "code",
   "execution_count": 2,
   "id": "ee558117-627d-46bd-b94d-dc17a74e3d01",
   "metadata": {},
   "outputs": [],
   "source": [
    "def pyramid(N):\n",
    "    b=0\n",
    "    for i in range(1,N+1):\n",
    "        b=b+i**2\n",
    "    return(b)\n",
    "    "
   ]
  },
  {
   "cell_type": "code",
   "execution_count": 3,
   "id": "8b7c2fb3-d641-4dcf-9923-81519fc5c7f5",
   "metadata": {},
   "outputs": [
    {
     "name": "stdout",
     "output_type": "stream",
     "text": [
      "1\n",
      "5\n",
      "14\n",
      "385\n"
     ]
    }
   ],
   "source": [
    "print(pyramid(1))\n",
    "print(pyramid(2))\n",
    "print(pyramid(3))\n",
    "print(pyramid(10))"
   ]
  },
  {
   "cell_type": "markdown",
   "id": "e197f6a9-8f01-4cc6-a43c-454ca89459db",
   "metadata": {},
   "source": [
    "<b>Exercise:</b>  Consider the integral\n",
    "\n",
    "$\\displaystyle \\int_0^2 \\sqrt{4 - x^2} dx = \\pi$\n",
    "\n",
    "We can calculate the integral using the rectangle rule doing the following:\n",
    "- Create a function, $c (x) = \\sqrt{4 - x^2}$.  Your function should accept x as the input and output the value $\\sqrt{4 - x^2}$.\n",
    "- Perform the rectangle rule by breaking the interval into N rectangles, \n",
    "\n",
    "$\\displaystyle \\sum_{i = 0}^{N-1} c ( i \\Delta x ) \\Delta x, \\qquad$ where $\\displaystyle\\qquad \\Delta x = \\frac{2}{N}$\n",
    "\n",
    "This is the summation of the function c, evaluated at input i times $\\Delta x$, multiplied by $\\Delta x$.\n",
    "\n",
    "- Create a function (give it a name, more complicated than just a random letter or letters) whose input is N and output is the sum above. \n",
    "- Call your funciton with N = 10, 100, 1000.\n",
    "- Finally, call your function with N = 10000.  Increase N by a factor of 10 (i.e., add another zero), until it takes your computer a few seconds to calculate to see how close to $\\pi$ you get.  (Do not add more zeros, unless you want to wait up to a minute or two for it to finish calculating.)"
   ]
  },
  {
   "cell_type": "code",
   "execution_count": 4,
   "id": "5679f518-48f0-42ea-b111-eba197eb1b46",
   "metadata": {},
   "outputs": [],
   "source": [
    "def c(x):\n",
    "    Y=np.sqrt(4-x**2)\n",
    "    return(Y)\n",
    "def code(N):\n",
    "    sum=0\n",
    "    for i in range (0,N-1):\n",
    "        dx=2/N\n",
    "        D=c(i*dx)*dx\n",
    "        sum= sum+D\n",
    "    return(sum)"
   ]
  },
  {
   "cell_type": "code",
   "execution_count": 5,
   "id": "ef98c3fd-0e73-45e6-84f9-aa018004f026",
   "metadata": {},
   "outputs": [
    {
     "data": {
      "text/plain": [
       "3.1417858208984906"
      ]
     },
     "execution_count": 5,
     "metadata": {},
     "output_type": "execute_result"
    }
   ],
   "source": [
    "code(10000)"
   ]
  },
  {
   "cell_type": "markdown",
   "id": "2366aa8a-5c0d-48ec-b287-c45334fb12f7",
   "metadata": {},
   "source": [
    "Confirm that this all works by using ``Kernel > Restart Kernel and Run All Cells...``"
   ]
  },
  {
   "cell_type": "markdown",
   "id": "c326855e-491d-4d95-a6e0-e94b673b3c40",
   "metadata": {},
   "source": [
    "When you are happy with your results, you will submit by uploading this file on Github."
   ]
  }
 ],
 "metadata": {
  "kernelspec": {
   "display_name": "Python 3 (ipykernel)",
   "language": "python",
   "name": "python3"
  },
  "language_info": {
   "codemirror_mode": {
    "name": "ipython",
    "version": 3
   },
   "file_extension": ".py",
   "mimetype": "text/x-python",
   "name": "python",
   "nbconvert_exporter": "python",
   "pygments_lexer": "ipython3",
   "version": "3.12.7"
  }
 },
 "nbformat": 4,
 "nbformat_minor": 5
}
